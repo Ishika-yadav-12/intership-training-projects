{
 "cells": [
  {
   "cell_type": "code",
   "execution_count": 1,
   "id": "40ae5ac3-c384-4e5c-9700-10053c2ef6fd",
   "metadata": {},
   "outputs": [
    {
     "name": "stdout",
     "output_type": "stream",
     "text": [
      "This is a basic rock paper scissors game.\n",
      "Rock defeats Scissors\n",
      "Scissors defeat Paper\n",
      "Paper defeats Rock\n",
      "R - Rock\n",
      "S - Scissors\n",
      "P - Paper\n",
      "Q - Quit\n",
      "Let's Play and enjoy!\n"
     ]
    },
    {
     "name": "stdin",
     "output_type": "stream",
     "text": [
      "Your turn :  R\n"
     ]
    },
    {
     "name": "stdout",
     "output_type": "stream",
     "text": [
      "Computer's turn : P\n",
      "You Lose\n"
     ]
    },
    {
     "name": "stdin",
     "output_type": "stream",
     "text": [
      "\n",
      "Your turn :  S\n"
     ]
    },
    {
     "name": "stdout",
     "output_type": "stream",
     "text": [
      "Computer's turn : S\n",
      "Draw\n"
     ]
    },
    {
     "name": "stdin",
     "output_type": "stream",
     "text": [
      "\n",
      "Your turn :  P\n"
     ]
    },
    {
     "name": "stdout",
     "output_type": "stream",
     "text": [
      "Computer's turn : P\n",
      "Draw\n"
     ]
    },
    {
     "name": "stdin",
     "output_type": "stream",
     "text": [
      "\n",
      "Your turn :  Q\n"
     ]
    },
    {
     "name": "stdout",
     "output_type": "stream",
     "text": [
      "\n",
      "Thanks for Playing!\n",
      "Your Score = 0\n",
      "Computer's Score = 5\n"
     ]
    }
   ],
   "source": [
    "import random\n",
    "print('This is a basic rock paper scissors game.\\nRock defeats Scissors\\nScissors defeat Paper')\n",
    "print('Paper defeats Rock\\nR - Rock\\nS - Scissors\\nP - Paper\\nQ - Quit\\nLet\\'s Play and enjoy!')\n",
    "\n",
    "compChoice=random.choice('RPS')\n",
    "userChoice=input(\"Your turn : \").upper()\n",
    "outUser=['R','P','S']\n",
    "outComp=['R','P','S']\n",
    "\n",
    "result=[['Draw','You Lose','You Win'],\n",
    "        ['You Win','Draw','You Lose'],\n",
    "        ['You Lose','You Win','Draw']]\n",
    "\n",
    "scoreUser=0\n",
    "scoreComp=0\n",
    "\n",
    "while(userChoice!='Q'):\n",
    "  print(f\"Computer's turn : {compChoice}\")\n",
    "\n",
    "  if userChoice not in outUser:\n",
    "    print('Invalid Input')\n",
    "\n",
    "  else:\n",
    "    endResult=result[outUser.index(userChoice)][outComp.index(compChoice)]\n",
    "    print(endResult)\n",
    "\n",
    "    if(endResult=='You Win'):\n",
    "      scoreUser=scoreUser+5\n",
    "\n",
    "    elif(endResult=='You Lose'):\n",
    "      scoreComp=scoreComp+5\n",
    "  compChoice=random.choice('RPS')\n",
    "  userChoice=input(\"\\nYour turn : \").upper()\n",
    "\n",
    "print(f\"\\nThanks for Playing!\\nYour Score = {scoreUser}\\nComputer's Score = {scoreComp}\")"
   ]
  },
  {
   "cell_type": "code",
   "execution_count": null,
   "id": "2babae29-e52f-42b5-bfdf-19d4d76550fa",
   "metadata": {},
   "outputs": [],
   "source": []
  }
 ],
 "metadata": {
  "kernelspec": {
   "display_name": "Python 3 (ipykernel)",
   "language": "python",
   "name": "python3"
  },
  "language_info": {
   "codemirror_mode": {
    "name": "ipython",
    "version": 3
   },
   "file_extension": ".py",
   "mimetype": "text/x-python",
   "name": "python",
   "nbconvert_exporter": "python",
   "pygments_lexer": "ipython3",
   "version": "3.11.7"
  }
 },
 "nbformat": 4,
 "nbformat_minor": 5
}
