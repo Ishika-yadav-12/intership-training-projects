{
 "cells": [
  {
   "cell_type": "code",
   "execution_count": null,
   "id": "fc9a3bc7-cb64-48b7-ba3d-0049e79f6e31",
   "metadata": {},
   "outputs": [],
   "source": [
    "from tkinter import *\n",
    "from random import randint\n",
    "\n",
    "root = Tk()\n",
    "root.geometry(\"500x300\")\n",
    "\n",
    "def new_rand():\n",
    "    pw_entry.delete(0,END)\n",
    "    pw_length = int(my_entry.get())\n",
    "    my_password = ''\n",
    "\n",
    "    for x in range(pw_length):\n",
    "        my_password += chr(randint(33,126))\n",
    "    pw_entry.insert(0, my_password)\n",
    "def clipper():\n",
    "    root.clipboard_clear()\n",
    "    root.clipboard_append(pw_entry.get())\n",
    "lf = LabelFrame(root, text=\"How Many Characters?\")\n",
    "lf.pack(pady=20)\n",
    "\n",
    "my_entry = Entry(lf, font=(\"Helvetica\", 24))\n",
    "my_entry.pack(pady=20, padx=20)\n",
    "\n",
    "pw_entry = Entry(root, text='', font=(\"Helvetica\",24), bd=0, bg=\"systembuttonface\")\n",
    "pw_entry.pack(pady=20)\n",
    "\n",
    "my_frame = Frame(root)\n",
    "my_frame.pack(pady=20)\n",
    "\n",
    "my_button = Button(my_frame, text=\"Generate Strong Password\", command=new_rand)\n",
    "my_button.grid(row=0, column=0, padx=10)\n",
    "\n",
    "clip_button = Button(my_frame, text=\"Copy To Clipboad\", command=clipper)\n",
    "clip_button.grid(row=0, column=1, padx=10)\n",
    "\n",
    "root.mainloop()"
   ]
  },
  {
   "cell_type": "code",
   "execution_count": null,
   "id": "052d2a26-2c29-4d8a-b434-b99b1efeb58e",
   "metadata": {},
   "outputs": [],
   "source": []
  }
 ],
 "metadata": {
  "kernelspec": {
   "display_name": "Python 3 (ipykernel)",
   "language": "python",
   "name": "python3"
  },
  "language_info": {
   "codemirror_mode": {
    "name": "ipython",
    "version": 3
   },
   "file_extension": ".py",
   "mimetype": "text/x-python",
   "name": "python",
   "nbconvert_exporter": "python",
   "pygments_lexer": "ipython3",
   "version": "3.11.7"
  }
 },
 "nbformat": 4,
 "nbformat_minor": 5
}
